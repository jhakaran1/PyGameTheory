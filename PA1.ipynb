{
 "cells": [
  {
   "cell_type": "code",
   "execution_count": 1,
   "id": "a04ad6f2",
   "metadata": {},
   "outputs": [],
   "source": [
    "import numpy as np\n",
    "import pandas as pd"
   ]
  },
  {
   "cell_type": "code",
   "execution_count": 2,
   "id": "c7bb747f",
   "metadata": {},
   "outputs": [],
   "source": [
    "def read_file(f):\n",
    "    with open(f, \"r\") as file:\n",
    "        newline_break = []\n",
    "        for readline in file: \n",
    "            line_strip = readline.strip()\n",
    "            newline_break.append(line_strip)\n",
    "    return (newline_break)\n",
    "\n",
    "def SolveForMixed(A,n1,n2):\n",
    "    a = []\n",
    "    b = []\n",
    "\n",
    "    for i in range(0,n1):\n",
    "        for j in range(i+1,n1):\n",
    "            a.append(A[i]-A[j])\n",
    "            b.append(0)\n",
    "    a.append([1 for i in range(n2)])\n",
    "    b.append(1)\n",
    "\n",
    "    x = np.linalg.solve(a, b)\n",
    "    return x"
   ]
  },
  {
   "cell_type": "code",
   "execution_count": 179,
   "id": "b894fd59",
   "metadata": {},
   "outputs": [],
   "source": [
    "class Game():\n",
    "    def __init__(self,player1,player2):\n",
    "        self.player1 = player1\n",
    "        self.player2 = player2\n",
    "    \n",
    "    def print_dom(self):\n",
    "        if player == '1':\n",
    "            player = self.player1\n",
    "        elif player == '2':\n",
    "            player = self.player2\n",
    "        player1.dominated()\n",
    "        \n",
    "    def getBR(self,player,strategy):\n",
    "        if player == '1':\n",
    "            player = self.player1\n",
    "            other = self.player2\n",
    "        elif player == '2':\n",
    "            other = self.player1\n",
    "            player = self.player2\n",
    "        strat_idx = player.get_idx(strategy)\n",
    "        BR_payoff = np.amax(other.payoff[:,strat_idx])\n",
    "        BR = np.where(other.payoff[:,strat_idx] == BR_payoff)\n",
    "        \n",
    "        return BR[0],np.array(other.strat)[BR[0]][0]\n",
    "    \n",
    "    def IESDS(self):\n",
    "        finished = 0\n",
    "        while finished == 0:\n",
    "            finished = 1\n",
    "            dom,compare = self.player1.dominated()\n",
    "            if len(dom) > 0:\n",
    "                finished = 0\n",
    "                self.player1.update_payoff(dom,0)\n",
    "                self.player2.update_payoff(dom,1)\n",
    "                for index in sorted(list(dom), reverse=True):\n",
    "                    del self.player1.strat[index]\n",
    "                \n",
    "            dom,compare = self.player2.dominated()\n",
    "            if len(dom) > 0:\n",
    "                finished = 0\n",
    "                self.player1.update_payoff(dom,1)\n",
    "                self.player2.update_payoff(dom,0)\n",
    "                for index in sorted(list(dom), reverse=True):\n",
    "                    del self.player2.strat[index]\n",
    "                    \n",
    "        return self.player1.strat,self.player2.strat\n",
    "                    \n",
    "    def rationalizable(self):\n",
    "        finished = 0\n",
    "        while finished == 0:\n",
    "            finished = 1\n",
    "            rat = set()\n",
    "            for strat in self.player2.strat:\n",
    "                rat.update(list(self.getBR('2',strat)[0]))\n",
    "            if len(self.player1.strat) > len(rat):\n",
    "                finished = 0\n",
    "                strat_updated = [self.player1.strat[i] for i in sorted(list(rat))]\n",
    "                dom = set()\n",
    "                for j in range(self.player1.n):\n",
    "                    if j not in rat:\n",
    "                        dom.add(j)\n",
    "                self.player1.update_payoff(dom,0)\n",
    "                self.player2.update_payoff(dom,1)\n",
    "                self.player1.strat = strat_updated\n",
    "            \n",
    "            rat = set()\n",
    "            for strat in self.player1.strat:\n",
    "                rat.update(list(self.getBR('1',strat)[0]))\n",
    "            if len(self.player2.strat) > len(rat):\n",
    "                finished = 0\n",
    "                strat_updated = [self.player2.strat[i] for i in sorted(list(rat))]\n",
    "                dom = set()\n",
    "                for j in range(self.player2.n):\n",
    "                    if j not in rat:\n",
    "                        dom.add(j)\n",
    "                self.player2.update_payoff(dom,0)\n",
    "                self.player1.update_payoff(dom,1)\n",
    "                self.player2.strat = strat_updated\n",
    "        return self.player1.strat,self.player2.strat\n",
    "                \n",
    "    def Nash_Eq(self):\n",
    "        self.rationalizable()\n",
    "        strats1 = self.player1.strat\n",
    "        strats2 = self.player2.strat\n",
    "        \n",
    "        strat_BR1 = [list(self.getBR('1',strat)[0]) for strat in strats1]\n",
    "        strat_BR2 = [list(self.getBR('2',strat)[0]) for strat in strats2]\n",
    "        \n",
    "        nash_eq = []\n",
    "        \n",
    "        for i,j in enumerate(strat_BR1):\n",
    "            for k in j:\n",
    "                if i in strat_BR2[k]:\n",
    "                    nash_eq.append((strats1[i],strats2[k]))\n",
    "        return nash_eq\n",
    "    \n",
    "    def Mixed_Eq(self):\n",
    "        self.rationalizable()\n",
    "        strats1 = self.player1.strat\n",
    "        strats2 = self.player2.strat\n",
    "        \n",
    "        A = self.player1.payoff\n",
    "        B = self.player2.payoff\n",
    "        \n",
    "        n1,n2 = self.player1.payoff.shape\n",
    "        \n",
    "        x = SolveForMixed(A,n1,n2)\n",
    "        mixed1 = []\n",
    "        for strat in self.player1.full_strat:\n",
    "            if strat in strats1:\n",
    "                mixed1.append(x[strats1.index(strat)])\n",
    "            else:\n",
    "                mixed1.append(0)\n",
    "        \n",
    "        x = SolveForMixed(B,n2,n1)\n",
    "        mixed2 = []\n",
    "        for strat in self.player2.full_strat:\n",
    "            if strat in strats2:\n",
    "                mixed2.append(x[strats2.index(strat)])\n",
    "            else:\n",
    "                mixed2.append(0)\n",
    "                \n",
    "        return mixed1,mixed2\n",
    "        \n",
    "                      \n",
    "                \n",
    "class Player():\n",
    "    def __init__(self,n,strat,payoff):\n",
    "        self.n = n\n",
    "        self.strat = strat\n",
    "        self.full_strat = strat\n",
    "        self.payoff = payoff\n",
    "        \n",
    "    def dominated(self):\n",
    "        payoff_arr1 = self.payoff\n",
    "        strat = self.strat\n",
    "        dom = set()\n",
    "        compare = []\n",
    "        for i in range(0,self.n):\n",
    "            for j in range(i+1,self.n):\n",
    "                if np.all(payoff_arr1[i,:] > payoff_arr1[j,:]):\n",
    "                    dom.add(j)\n",
    "                    compare.append((strat[j],strat[i]))\n",
    "                elif np.all(payoff_arr1[i,:] < payoff_arr1[j,:]):\n",
    "                    dom.add(i)\n",
    "                    compare.append((strat[i],strat[j]))\n",
    "        return (dom,compare)\n",
    "\n",
    "    def get_idx(self,strategy):\n",
    "        return self.strat.index(strategy)\n",
    "    \n",
    "    def update_payoff(self,dom,axis):\n",
    "        self.payoff = np.delete(self.payoff,list(dom),axis)\n",
    "        self.n = self.payoff.shape[0]\n",
    "    \n",
    "def read_payoff(s):\n",
    "    payoff = s.split(',')\n",
    "    a = tuple(map(float,payoff))\n",
    "    return a"
   ]
  },
  {
   "cell_type": "code",
   "execution_count": 167,
   "id": "14673ef6",
   "metadata": {},
   "outputs": [],
   "source": [
    "f = 'ExampleInputs/Ex9.txt'\n",
    "input_arr = read_file(f)"
   ]
  },
  {
   "cell_type": "code",
   "execution_count": 168,
   "id": "484fe094",
   "metadata": {},
   "outputs": [],
   "source": [
    "n1 = int(input_arr[0])\n",
    "strat_str = input_arr[1]\n",
    "strategies1 = strat_str.split()"
   ]
  },
  {
   "cell_type": "code",
   "execution_count": 169,
   "id": "f91dd3ca",
   "metadata": {},
   "outputs": [],
   "source": [
    "n2 = int(input_arr[2])\n",
    "strat_str = input_arr[3]\n",
    "strategies2 = strat_str.split()"
   ]
  },
  {
   "cell_type": "code",
   "execution_count": 170,
   "id": "1aeebdab",
   "metadata": {},
   "outputs": [],
   "source": [
    "# 6,8 2,6 8,2\n",
    "# 8,2 4,4 9,5\n",
    "# 8,10 4,6 6,7\n",
    "payoff_arr = []\n",
    "for i in range(n1):\n",
    "    s = input_arr[4 + i]\n",
    "    payoff_str = s.split()\n",
    "    payoff = list(map(read_payoff,payoff_str))\n",
    "    payoff_arr.append(np.array(payoff))"
   ]
  },
  {
   "cell_type": "code",
   "execution_count": 171,
   "id": "8fed7091",
   "metadata": {},
   "outputs": [],
   "source": [
    "payoff_arr = np.array(payoff_arr)"
   ]
  },
  {
   "cell_type": "code",
   "execution_count": 172,
   "id": "219f3c14",
   "metadata": {},
   "outputs": [],
   "source": [
    "payoff_arr1 = payoff_arr[:,:,0]\n",
    "payoff_arr2 = payoff_arr[:,:,1]"
   ]
  },
  {
   "cell_type": "code",
   "execution_count": 173,
   "id": "8524f258",
   "metadata": {},
   "outputs": [
    {
     "data": {
      "text/plain": [
       "(array([[12.,  9.,  5., 13., 23., 19., 17.,  4.],\n",
       "        [17., 12., 10., 16., 21., 21., 20.,  8.],\n",
       "        [ 0., -1., -5., -2., 11.,  8.,  6., -5.],\n",
       "        [ 2.,  0.,  0.,  1., 10., 12., 13., -3.]]),\n",
       " array([[ 3., 12., 10., 10., -5., -2.,  4.,  4.],\n",
       "        [14., 17., 17., 18.,  6.,  6., 14., 16.],\n",
       "        [ 4., 13., 11., 13.,  0., -3., 11.,  9.],\n",
       "        [13., 19., 15., 18.,  7.,  4., 11., 11.]]))"
      ]
     },
     "execution_count": 173,
     "metadata": {},
     "output_type": "execute_result"
    }
   ],
   "source": [
    "(payoff_arr1,payoff_arr2)"
   ]
  },
  {
   "cell_type": "code",
   "execution_count": 174,
   "id": "d840033a",
   "metadata": {},
   "outputs": [],
   "source": [
    "Player1 = Player(n1,strategies1,payoff_arr1)\n",
    "Player2 = Player(n2,strategies2,payoff_arr2.T)"
   ]
  },
  {
   "cell_type": "code",
   "execution_count": 175,
   "id": "b661e5a6",
   "metadata": {},
   "outputs": [],
   "source": [
    "game = Game(Player1,Player2)"
   ]
  },
  {
   "cell_type": "code",
   "execution_count": 176,
   "id": "55eced46",
   "metadata": {},
   "outputs": [
    {
     "data": {
      "text/plain": [
       "(array([1]), 'B')"
      ]
     },
     "execution_count": 176,
     "metadata": {},
     "output_type": "execute_result"
    }
   ],
   "source": [
    "game.getBR('1','D')"
   ]
  },
  {
   "cell_type": "code",
   "execution_count": 177,
   "id": "ab90d4d8",
   "metadata": {},
   "outputs": [
    {
     "data": {
      "text/plain": [
       "(['A', 'B', 'C', 'D'], ['A', 'B', 'C', 'D', 'E', 'F', 'G', 'H'])"
      ]
     },
     "execution_count": 177,
     "metadata": {},
     "output_type": "execute_result"
    }
   ],
   "source": [
    "Player1.strat, Player2.strat"
   ]
  },
  {
   "cell_type": "code",
   "execution_count": 178,
   "id": "a2d1a4bc",
   "metadata": {},
   "outputs": [
    {
     "data": {
      "text/plain": [
       "(['B'], ['D'])"
      ]
     },
     "execution_count": 178,
     "metadata": {},
     "output_type": "execute_result"
    }
   ],
   "source": [
    "game.rationalizable()"
   ]
  },
  {
   "cell_type": "code",
   "execution_count": 16,
   "id": "db5ddda5",
   "metadata": {},
   "outputs": [
    {
     "data": {
      "text/plain": [
       "array([[ 1.,  0.],\n",
       "       [ 0., 10.]])"
      ]
     },
     "execution_count": 16,
     "metadata": {},
     "output_type": "execute_result"
    }
   ],
   "source": [
    "Player1.payoff"
   ]
  },
  {
   "cell_type": "code",
   "execution_count": 17,
   "id": "f3045ac8",
   "metadata": {},
   "outputs": [
    {
     "data": {
      "text/plain": [
       "array([[4., 3.],\n",
       "       [2., 5.]])"
      ]
     },
     "execution_count": 17,
     "metadata": {},
     "output_type": "execute_result"
    }
   ],
   "source": [
    "Player2.payoff"
   ]
  },
  {
   "cell_type": "code",
   "execution_count": 18,
   "id": "bf9117c3",
   "metadata": {},
   "outputs": [
    {
     "data": {
      "text/plain": [
       "['U', 'D']"
      ]
     },
     "execution_count": 18,
     "metadata": {},
     "output_type": "execute_result"
    }
   ],
   "source": [
    "Player1.strat"
   ]
  },
  {
   "cell_type": "code",
   "execution_count": 19,
   "id": "04a2916a",
   "metadata": {},
   "outputs": [
    {
     "data": {
      "text/plain": [
       "['L', 'R']"
      ]
     },
     "execution_count": 19,
     "metadata": {},
     "output_type": "execute_result"
    }
   ],
   "source": [
    "Player2.full_strat"
   ]
  },
  {
   "cell_type": "code",
   "execution_count": 20,
   "id": "64826916",
   "metadata": {},
   "outputs": [
    {
     "data": {
      "text/plain": [
       "[('U', 'L'), ('D', 'R')]"
      ]
     },
     "execution_count": 20,
     "metadata": {},
     "output_type": "execute_result"
    }
   ],
   "source": [
    "game.Nash_Eq()"
   ]
  },
  {
   "cell_type": "code",
   "execution_count": 585,
   "id": "7ac8a517",
   "metadata": {},
   "outputs": [
    {
     "data": {
      "text/plain": [
       "([0.5, 0.5, 0], [0.5, 0.5])"
      ]
     },
     "execution_count": 585,
     "metadata": {},
     "output_type": "execute_result"
    }
   ],
   "source": [
    "game.Mixed_Eq()"
   ]
  },
  {
   "cell_type": "code",
   "execution_count": null,
   "id": "c7723338",
   "metadata": {},
   "outputs": [],
   "source": []
  }
 ],
 "metadata": {
  "kernelspec": {
   "display_name": "Python 3 (ipykernel)",
   "language": "python",
   "name": "python3"
  },
  "language_info": {
   "codemirror_mode": {
    "name": "ipython",
    "version": 3
   },
   "file_extension": ".py",
   "mimetype": "text/x-python",
   "name": "python",
   "nbconvert_exporter": "python",
   "pygments_lexer": "ipython3",
   "version": "3.9.6"
  }
 },
 "nbformat": 4,
 "nbformat_minor": 5
}
